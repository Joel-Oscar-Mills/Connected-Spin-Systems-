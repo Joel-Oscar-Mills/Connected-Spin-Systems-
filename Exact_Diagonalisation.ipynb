{
 "cells": [
  {
   "cell_type": "markdown",
   "id": "8d33667a",
   "metadata": {},
   "source": [
    "using ITensors\n",
    "let\n",
    "    N=2\n",
    "    Sites = siteinds(\"S=1/2\",N)\n",
    "    \n",
    "    os = OpSum()\n",
    "    for j=1:N-1\n",
    "        os += \"Sz\",j,\"Sz\",j+1\n",
    "        os += 1/2,\"S+\",j,\"S-\",j+1\n",
    "        os += 1/2,\"S-\",j,\"S+\",j+1\n",
    "    end\n",
    "    H = MPO(os,Sites)\n",
    "    \n",
    "    psi0 = randomMPS(Sites,1)\n",
    "    \n",
    "    nsweeps = 1\n",
    "    maxdim = [10,20,100,100,200]\n",
    "    cutoff = [1E-10]\n",
    "    \n",
    "    energy, psi = dmrg(H,psi0; nsweeps, maxdim, cutoff)\n",
    "    \n",
    "    return\n",
    "end"
   ]
  },
  {
   "cell_type": "markdown",
   "id": "507c3ad5",
   "metadata": {},
   "source": [
    "using ITensors\n",
    "let\n",
    "  N = 200\n",
    "  sites = siteinds(\"S=1/2\",N)\n",
    "\n",
    "  os = OpSum()\n",
    "  for j=1:N-1\n",
    "    os += \"Sz\",j,\"Sz\",j+1\n",
    "    os += 1/2,\"S+\",j,\"S-\",j+1\n",
    "    os += 1/2,\"S-\",j,\"S+\",j+1\n",
    "  end\n",
    "  H = MPO(os,sites)\n",
    "\n",
    "  psi0 = randomMPS(sites,1)\n",
    "\n",
    "  nsweeps = 1\n",
    "  maxdim = [10,20,100,100,200]\n",
    "  cutoff = [1E-10]\n",
    "\n",
    "  energy, psi = dmrg(H,psi0; nsweeps, maxdim, cutoff)\n",
    "\n",
    "  return\n",
    "end"
   ]
  },
  {
   "cell_type": "code",
   "execution_count": 3,
   "id": "3a6def1d",
   "metadata": {},
   "outputs": [
    {
     "data": {
      "text/plain": [
       "4×4 Matrix{Float64}:\n",
       " 0.25   0.0    0.0    0.0\n",
       " 0.0   -0.25   0.0   -0.0\n",
       " 0.0    0.0   -0.25  -0.0\n",
       " 0.0   -0.0   -0.0    0.25"
      ]
     },
     "execution_count": 3,
     "metadata": {},
     "output_type": "execute_result"
    }
   ],
   "source": [
    "σᶻ = 0.5*[1 0;0 -1] #pauli matrices\n",
    "σˣ = 0.5*[0 1; 1 0]\n",
    "\n",
    "kron(σᶻ,σᶻ) #this is the matrix of the tensor product σᶻᵢ ⊗ σᶻⱼ\n"
   ]
  },
  {
   "cell_type": "code",
   "execution_count": 4,
   "id": "367ce2b2",
   "metadata": {},
   "outputs": [
    {
     "data": {
      "text/plain": [
       "4×4 Matrix{Float64}:\n",
       " 0.25   0.0    0.0    0.0\n",
       " 0.0   -0.25   0.0   -0.0\n",
       " 0.0    0.0   -0.25  -0.0\n",
       " 0.0   -0.0   -0.0    0.25"
      ]
     },
     "execution_count": 4,
     "metadata": {},
     "output_type": "execute_result"
    }
   ],
   "source": [
    "⊗(x,y) = kron(x,y) \n",
    "σᶻ ⊗ σᶻ            #equivalent to kron()\n"
   ]
  },
  {
   "cell_type": "code",
   "execution_count": 5,
   "id": "90588261",
   "metadata": {},
   "outputs": [
    {
     "data": {
      "text/plain": [
       "2×2 Matrix{Int64}:\n",
       " 1  0\n",
       " 0  1"
      ]
     },
     "execution_count": 5,
     "metadata": {},
     "output_type": "execute_result"
    }
   ],
   "source": [
    "id = [1 0;0 1]"
   ]
  },
  {
   "cell_type": "code",
   "execution_count": 6,
   "id": "9890ed76",
   "metadata": {},
   "outputs": [
    {
     "data": {
      "text/plain": [
       "16×16 Matrix{Float64}:\n",
       " -1.0  -0.5  -0.5  -0.0  -0.5  -0.0  …  -0.0  -0.0  -0.0  -0.0  -0.0  -0.0\n",
       " -0.5   0.0  -0.0  -0.5  -0.0  -0.5     -0.0   0.0  -0.0   0.0  -0.0   0.0\n",
       " -0.5  -0.0   0.0  -0.5  -0.0  -0.0     -0.5   0.0  -0.0  -0.0   0.0   0.0\n",
       " -0.0  -0.5  -0.5   0.0  -0.0   0.0      0.0  -0.5  -0.0   0.0   0.0   0.0\n",
       " -0.5  -0.0  -0.0  -0.0   0.0  -0.5     -0.0  -0.0  -0.5   0.0   0.0   0.0\n",
       " -0.0  -0.5  -0.0   0.0  -0.5   1.0  …  -0.0   0.0   0.0  -0.5   0.0   0.0\n",
       " -0.0  -0.0  -0.5   0.0  -0.5   0.0      0.0   0.0   0.0   0.0  -0.5   0.0\n",
       " -0.0   0.0   0.0  -0.5   0.0  -0.5      0.0   0.0   0.0   0.0   0.0  -0.5\n",
       " -0.5  -0.0  -0.0  -0.0  -0.0  -0.0     -0.5   0.0  -0.5   0.0   0.0   0.0\n",
       " -0.0  -0.5  -0.0   0.0  -0.0   0.0      0.0  -0.5   0.0  -0.5   0.0   0.0\n",
       " -0.0  -0.0  -0.5   0.0  -0.0  -0.0  …   1.0  -0.5   0.0   0.0  -0.5   0.0\n",
       " -0.0   0.0   0.0  -0.5  -0.0   0.0     -0.5   0.0   0.0   0.0   0.0  -0.5\n",
       " -0.0  -0.0  -0.0  -0.0  -0.5   0.0      0.0   0.0   0.0  -0.5  -0.5   0.0\n",
       " -0.0   0.0  -0.0   0.0   0.0  -0.5      0.0   0.0  -0.5   0.0   0.0  -0.5\n",
       " -0.0  -0.0   0.0   0.0   0.0   0.0     -0.5   0.0  -0.5   0.0   0.0  -0.5\n",
       " -0.0   0.0   0.0   0.0   0.0   0.0  …   0.0  -0.5   0.0  -0.5  -0.5  -1.0"
      ]
     },
     "execution_count": 6,
     "metadata": {},
     "output_type": "execute_result"
    }
   ],
   "source": [
    "g=1\n",
    "J=1\n",
    "\n",
    "H = - σᶻ⊗σᶻ⊗id⊗id - id⊗σᶻ⊗σᶻ⊗id - id⊗id⊗σᶻ⊗σᶻ - σᶻ⊗id⊗id⊗σᶻ\n",
    "H -= g*(σˣ⊗id⊗id⊗id + id⊗σˣ⊗id⊗id + id⊗id⊗σˣ⊗id + id⊗id⊗id⊗σˣ)\n",
    "H = J*H"
   ]
  },
  {
   "cell_type": "code",
   "execution_count": 7,
   "id": "43df0cbf",
   "metadata": {},
   "outputs": [
    {
     "data": {
      "text/plain": [
       "TransverseFieldIsing (generic function with 1 method)"
      ]
     },
     "execution_count": 7,
     "metadata": {},
     "output_type": "execute_result"
    }
   ],
   "source": [
    "function TransverseFieldIsing(;N,J,g)\n",
    "    id = [1 0;0 1]\n",
    "    σˣ = [0 1;1 0]\n",
    "    σᶻ = [1 0;0 -1]\n",
    "    \n",
    "    #Constructing a vector of operators: [σᶻ, σᶻ, id, id, ...]\n",
    "    first_term_ops = fill(id, N)\n",
    "    first_term_ops[1] = σᶻ\n",
    "    first_term_ops[2] = σᶻ\n",
    "    \n",
    "    #Construction a vector of operators: [σˣ, id, ...]\n",
    "    second_term_ops = fill(id, N)\n",
    "    second_term_ops[1] = σˣ\n",
    "    \n",
    "    H = zeros(Int, 2^N, 2^N)\n",
    "    for i in 1:N\n",
    "        #tensor multiply all the operators\n",
    "        H -= foldl(⊗, first_term_ops)\n",
    "        #cylicly permute the operator array\n",
    "        first_term_ops = circshift(first_term_ops,1)\n",
    "    end\n",
    "    \n",
    "    for i in 1:N\n",
    "        H -= g*foldl(⊗, second_term_ops)\n",
    "        second_term_ops = circshift(second_term_ops,1)\n",
    "    end\n",
    "    H = J*H\n",
    "    H\n",
    "end"
   ]
  },
  {
   "cell_type": "code",
   "execution_count": 8,
   "id": "c41833c3",
   "metadata": {},
   "outputs": [
    {
     "data": {
      "text/plain": [
       "256×256 Matrix{Int64}:\n",
       " -8  -1  -1   0  -1   0   0   0  -1  …   0   0   0   0   0   0   0   0   0\n",
       " -1  -4   0  -1   0  -1   0   0   0      0   0   0   0   0   0   0   0   0\n",
       " -1   0  -4  -1   0   0  -1   0   0      0   0   0   0   0   0   0   0   0\n",
       "  0  -1  -1  -4   0   0   0  -1   0      0   0   0   0   0   0   0   0   0\n",
       " -1   0   0   0  -4  -1  -1   0   0      0   0   0   0   0   0   0   0   0\n",
       "  0  -1   0   0  -1   0   0  -1   0  …   0   0   0   0   0   0   0   0   0\n",
       "  0   0  -1   0  -1   0  -4  -1   0      0   0   0   0   0   0   0   0   0\n",
       "  0   0   0  -1   0  -1  -1  -4   0      0   0   0   0   0   0   0   0   0\n",
       " -1   0   0   0   0   0   0   0  -4      0   0   0   0   0   0   0   0   0\n",
       "  0  -1   0   0   0   0   0   0  -1      0   0   0   0   0   0   0   0   0\n",
       "  0   0  -1   0   0   0   0   0  -1  …   0   0   0   0   0   0   0   0   0\n",
       "  0   0   0  -1   0   0   0   0   0      0   0   0   0   0   0   0   0   0\n",
       "  0   0   0   0  -1   0   0   0  -1      0   0   0   0   0   0   0   0   0\n",
       "  ⋮                   ⋮              ⋱               ⋮                   ⋮\n",
       "  0   0   0   0   0   0   0   0   0      0   0   0   0   0  -1   0   0   0\n",
       "  0   0   0   0   0   0   0   0   0  …  -1   0   0   0   0   0  -1   0   0\n",
       "  0   0   0   0   0   0   0   0   0     -1   0   0   0   0   0   0  -1   0\n",
       "  0   0   0   0   0   0   0   0   0     -4   0   0   0   0   0   0   0  -1\n",
       "  0   0   0   0   0   0   0   0   0      0  -4  -1  -1   0  -1   0   0   0\n",
       "  0   0   0   0   0   0   0   0   0      0  -1  -4   0  -1   0  -1   0   0\n",
       "  0   0   0   0   0   0   0   0   0  …   0  -1   0   0  -1   0   0  -1   0\n",
       "  0   0   0   0   0   0   0   0   0      0   0  -1  -1  -4   0   0   0  -1\n",
       "  0   0   0   0   0   0   0   0   0      0  -1   0   0   0  -4  -1  -1   0\n",
       "  0   0   0   0   0   0   0   0   0      0   0  -1   0   0  -1  -4   0  -1\n",
       "  0   0   0   0   0   0   0   0   0      0   0   0  -1   0  -1   0  -4  -1\n",
       "  0   0   0   0   0   0   0   0   0  …  -1   0   0   0  -1   0  -1  -1  -8"
      ]
     },
     "execution_count": 8,
     "metadata": {},
     "output_type": "execute_result"
    }
   ],
   "source": [
    "TransverseFieldIsing(N=8, J=1, g=1)"
   ]
  },
  {
   "cell_type": "code",
   "execution_count": 9,
   "id": "1e0be467",
   "metadata": {},
   "outputs": [
    {
     "data": {
      "text/plain": [
       "generate_basis"
      ]
     },
     "execution_count": 9,
     "metadata": {},
     "output_type": "execute_result"
    }
   ],
   "source": [
    "#this code generates a full basis for a Quantum Ising model of length N\n",
    "\"\"\"\n",
    "Binary `BitArray` representation of the given integer `num`, padded to length `N`.\n",
    "\"\"\"\n",
    "bit_rep(num::Integer, N::Integer) = BitArray(parse(Bool, i) for i in string(num, base=2, pad=N))\n",
    "\n",
    "\"\"\"\n",
    "    generate_basis(N::Integer) -> basis\n",
    "\n",
    "Generates a basis (`Vector{BitArray}`) spanning the Hilbert space of `N` spins.\n",
    "\"\"\"\n",
    "function generate_basis(N::Integer)\n",
    "    nstates = 2^N\n",
    "    basis = Vector{BitArray{1}}(undef, nstates)\n",
    "    for i in 0:nstates-1\n",
    "        basis[i+1] = bit_rep(i, N)\n",
    "    end\n",
    "    return basis\n",
    "end"
   ]
  },
  {
   "cell_type": "code",
   "execution_count": 10,
   "id": "47fb8fa3",
   "metadata": {},
   "outputs": [
    {
     "data": {
      "text/plain": [
       "4-element Vector{BitVector}:\n",
       " [0, 0]\n",
       " [0, 1]\n",
       " [1, 0]\n",
       " [1, 1]"
      ]
     },
     "execution_count": 10,
     "metadata": {},
     "output_type": "execute_result"
    }
   ],
   "source": [
    "generate_basis(2)"
   ]
  },
  {
   "cell_type": "code",
   "execution_count": 11,
   "id": "40b5ddc9",
   "metadata": {},
   "outputs": [
    {
     "data": {
      "text/plain": [
       "16-element Vector{BitVector}:\n",
       " [0, 0, 0, 0]\n",
       " [0, 0, 0, 1]\n",
       " [0, 0, 1, 0]\n",
       " [0, 0, 1, 1]\n",
       " [0, 1, 0, 0]\n",
       " [0, 1, 0, 1]\n",
       " [0, 1, 1, 0]\n",
       " [0, 1, 1, 1]\n",
       " [1, 0, 0, 0]\n",
       " [1, 0, 0, 1]\n",
       " [1, 0, 1, 0]\n",
       " [1, 0, 1, 1]\n",
       " [1, 1, 0, 0]\n",
       " [1, 1, 0, 1]\n",
       " [1, 1, 1, 0]\n",
       " [1, 1, 1, 1]"
      ]
     },
     "execution_count": 11,
     "metadata": {},
     "output_type": "execute_result"
    }
   ],
   "source": [
    "generate_basis(4)"
   ]
  },
  {
   "cell_type": "code",
   "execution_count": 12,
   "id": "8ae490f1",
   "metadata": {},
   "outputs": [
    {
     "data": {
      "text/plain": [
       "TransverseFieldIsing_Explicit (generic function with 1 method)"
      ]
     },
     "execution_count": 12,
     "metadata": {},
     "output_type": "execute_result"
    }
   ],
   "source": [
    "#iterative construction of H\n",
    "\n",
    "using LinearAlgebra\n",
    "\n",
    "function TransverseFieldIsing_Explicit(; N::Integer, h::T=0) where T<:Real\n",
    "    basis = generate_basis(N)\n",
    "    H = zeros(T, 2^N, 2^N)\n",
    "    bonds = zip(collect(1:N-1),collect(2:N))\n",
    "    for (i, bstate) in enumerate(basis)\n",
    "        #diagonal part\n",
    "        diag_term = 0.0\n",
    "        for (site_i, site_j) in bonds\n",
    "            if bstate[site_i] == bstate[site_j]\n",
    "                diag_term -= 1\n",
    "            else\n",
    "                diag_term += 1\n",
    "            end\n",
    "        end\n",
    "        H[i,i] = diag_term\n",
    "        \n",
    "        #off diagonal part\n",
    "        for site in 1:N\n",
    "            new_bstate = copy(bstate)\n",
    "            #flip the bit on the site (the action of σˣ on a bit)\n",
    "            new_bstate[site] = !newb_state[site]\n",
    "            #find corresponding single basis state with unity overlap (orthonormality)\n",
    "            new_i = findfirst(isequal(new_bstate), basis)\n",
    "            H[i, new_i] = -h\n",
    "        end\n",
    "    end\n",
    "    return H\n",
    "end"
   ]
  },
  {
   "cell_type": "code",
   "execution_count": 13,
   "id": "a32f81e9",
   "metadata": {},
   "outputs": [
    {
     "ename": "LoadError",
     "evalue": "UndefVarError: `newb_state` not defined",
     "output_type": "error",
     "traceback": [
      "UndefVarError: `newb_state` not defined",
      "",
      "Stacktrace:",
      " [1] TransverseFieldIsing_Explicit(; N::Int64, h::Int64)",
      "   @ Main .\\In[12]:25",
      " [2] top-level scope",
      "   @ In[13]:1"
     ]
    }
   ],
   "source": [
    "TransverseFieldIsing_Explicit(N=4, h=1)"
   ]
  },
  {
   "cell_type": "code",
   "execution_count": 14,
   "id": "15cc673f",
   "metadata": {},
   "outputs": [
    {
     "data": {
      "text/plain": [
       "4-element Vector{Float64}:\n",
       " 1.0\n",
       " 0.0\n",
       " 0.0\n",
       " 0.0"
      ]
     },
     "execution_count": 14,
     "metadata": {},
     "output_type": "execute_result"
    }
   ],
   "source": [
    "basis = generate_basis(8)\n",
    "H = TransverseFieldIsing(N=2, J=1, g=0)\n",
    "vals, vecs = eigen(H)\n",
    "groundstate = vecs[:,1]\n",
    "abs2.(groundstate)"
   ]
  },
  {
   "cell_type": "code",
   "execution_count": 15,
   "id": "037448a8",
   "metadata": {},
   "outputs": [
    {
     "data": {
      "text/plain": [
       "8-element BitVector:\n",
       " 0\n",
       " 0\n",
       " 0\n",
       " 0\n",
       " 0\n",
       " 0\n",
       " 0\n",
       " 0"
      ]
     },
     "execution_count": 15,
     "metadata": {},
     "output_type": "execute_result"
    }
   ],
   "source": [
    "basis[1]"
   ]
  },
  {
   "cell_type": "code",
   "execution_count": 16,
   "id": "7ec3821c",
   "metadata": {},
   "outputs": [
    {
     "data": {
      "text/plain": [
       "256-element Vector{Float64}:\n",
       " 0.004065668441957344\n",
       " 0.0039849628943491745\n",
       " 0.0039849628943491745\n",
       " 0.003984762646227951\n",
       " 0.003984962894349173\n",
       " 0.0039060546850590533\n",
       " 0.003984762646227947\n",
       " 0.003984761646251895\n",
       " 0.003984962894349173\n",
       " 0.003905860366186066\n",
       " 0.0039060546850590524\n",
       " 0.00390585938110368\n",
       " 0.003984762646227947\n",
       " ⋮\n",
       " 0.003905859381103708\n",
       " 0.0039060546850590958\n",
       " 0.003905860366186104\n",
       " 0.003984962894349253\n",
       " 0.003984761646251924\n",
       " 0.003984762646227994\n",
       " 0.0039060546850590906\n",
       " 0.003984962894349276\n",
       " 0.003984762646227951\n",
       " 0.003984962894349246\n",
       " 0.003984962894349232\n",
       " 0.004065668441957414"
      ]
     },
     "execution_count": 16,
     "metadata": {},
     "output_type": "execute_result"
    }
   ],
   "source": [
    "H = TransverseFieldIsing(N=8, J=1, g=100)\n",
    "vals, vecs = eigen(H)\n",
    "groundstate = vecs[:,1]\n",
    "abs2.(groundstate)"
   ]
  },
  {
   "cell_type": "code",
   "execution_count": 38,
   "id": "7ed9a15e",
   "metadata": {},
   "outputs": [
    {
     "ename": "LoadError",
     "evalue": "InexactError: Int64(0.5)",
     "output_type": "error",
     "traceback": [
      "InexactError: Int64(0.5)",
      "",
      "Stacktrace:",
      "  [1] Int64",
      "    @ .\\float.jl:900 [inlined]",
      "  [2] convert",
      "    @ .\\number.jl:7 [inlined]",
      "  [3] setindex!",
      "    @ .\\array.jl:969 [inlined]",
      "  [4] _unsafe_copyto!(dest::Matrix{Int64}, doffs::Int64, src::Matrix{Float64}, soffs::Int64, n::Int64)",
      "    @ Base .\\array.jl:250",
      "  [5] unsafe_copyto!",
      "    @ .\\array.jl:304 [inlined]",
      "  [6] _copyto_impl!",
      "    @ .\\array.jl:327 [inlined]",
      "  [7] copyto!",
      "    @ .\\array.jl:314 [inlined]",
      "  [8] copyto!",
      "    @ .\\array.jl:339 [inlined]",
      "  [9] copyto_axcheck!(dest::Matrix{Int64}, src::Matrix{Float64})",
      "    @ Base .\\abstractarray.jl:1180",
      " [10] Array",
      "    @ .\\array.jl:621 [inlined]",
      " [11] convert",
      "    @ .\\array.jl:613 [inlined]",
      " [12] setindex!(A::Vector{Matrix{Int64}}, x::Matrix{Float64}, i1::Int64)",
      "    @ Base .\\array.jl:969",
      " [13] Sᶻᵢ(System_Size::Int64, spin_location::Int64)",
      "    @ Main .\\In[38]:5",
      " [14] top-level scope",
      "    @ In[38]:9"
     ]
    }
   ],
   "source": [
    "#Correlation function C(i,j)\n",
    "\n",
    "function Sᶻᵢ(System_Size::Integer,spin_location::Integer)\n",
    "    S = fill(id, System_Size)\n",
    "    S[3] = σᶻ\n",
    "    return S\n",
    "end\n",
    "\n",
    "S = Sᶻᵢ(4,2)\n"
   ]
  },
  {
   "cell_type": "markdown",
   "id": "7fad3423",
   "metadata": {},
   "source": [
    "Since we're looking for quantum magnets we will compute the overall magnetization, defined by \n",
    "\n",
    "$M = \\frac{1}{N}\\sum_{i}{\\sigma^{z}_{i}}$\n",
    "\n",
    "where $\\sigma^{z}_{i}$ is the value of the spin on site $i$ when we measure"
   ]
  },
  {
   "cell_type": "code",
   "execution_count": 18,
   "id": "3bba2fac",
   "metadata": {},
   "outputs": [
    {
     "data": {
      "text/plain": [
       "magnetisation (generic function with 1 method)"
      ]
     },
     "execution_count": 18,
     "metadata": {},
     "output_type": "execute_result"
    }
   ],
   "source": [
    "function magnetisation(state, basis)\n",
    "    M = 0.0\n",
    "    for (i, bstate) in enumerate(basis)\n",
    "        bstate_M = 0\n",
    "        for spin in bstate\n",
    "            bstate_M += (state[i]^2 * (spin ? 1 : -1))/length(bstate)\n",
    "        end\n",
    "        @assert abs(bstate_M) <= 1\n",
    "        M += abs(bstate_M)\n",
    "    end\n",
    "    return M\n",
    "end"
   ]
  },
  {
   "cell_type": "code",
   "execution_count": 19,
   "id": "9c3f9556",
   "metadata": {},
   "outputs": [
    {
     "data": {
      "text/plain": [
       "0.2750078990794085"
      ]
     },
     "execution_count": 19,
     "metadata": {},
     "output_type": "execute_result"
    }
   ],
   "source": [
    "magnetisation(groundstate, basis)"
   ]
  },
  {
   "cell_type": "markdown",
   "id": "4de43630",
   "metadata": {},
   "source": [
    "using Plots\n",
    "\n",
    "ENV[\"GRDIR\"]=\"\"\n",
    "Pkg.build(\"GR\")\n",
    "\n",
    "hs = 10 .^ range(-2., stop=2, length=10)\n",
    "Ns = 2:10\n",
    "p = plot()\n",
    "for N in Ns\n",
    "    M = zeros(length(hs))\n",
    "    for (i,h) in enumerate(hs)\n",
    "        basis = generate_basis(N)\n",
    "        H = TransverseFieldIsing(N=N,J=1,g=h)\n",
    "        vals, vecs = eigen(H)\n",
    "        groundstate = vecs[:,1]\n",
    "        M[i] = magnetisation(groundstate,basis)\n",
    "    end\n",
    "    plot!(p, hs, M, xscale=:log10, marker=:circle, label=\"N=$N\", xlab=\"h\", ylab=\"M(h)\")\n",
    "    println(M)\n",
    "end"
   ]
  }
 ],
 "metadata": {
  "kernelspec": {
   "display_name": "Julia 1.9.2",
   "language": "julia",
   "name": "julia-1.9"
  },
  "language_info": {
   "file_extension": ".jl",
   "mimetype": "application/julia",
   "name": "julia",
   "version": "1.9.2"
  }
 },
 "nbformat": 4,
 "nbformat_minor": 5
}
